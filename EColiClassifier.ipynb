{
 "cells": [
  {
   "cell_type": "code",
   "execution_count": 70,
   "id": "9483f2b4",
   "metadata": {},
   "outputs": [],
   "source": [
    "import numpy as np\n",
    "import pandas as pd\n",
    "import matplotlib.pyplot as plt\n",
    "from sklearn.neural_network import MLPClassifier\n",
    "df = pd.read_csv('ecoli.csv')"
   ]
  },
  {
   "cell_type": "code",
   "execution_count": 52,
   "id": "5ae481cb",
   "metadata": {},
   "outputs": [
    {
     "name": "stdout",
     "output_type": "stream",
     "text": [
      "This dataset contains 336 rows of data about E coli and their protein sequence. The site column serves as the classes which are cp, im, imS, imL imU, om, omL, and pp\n"
     ]
    }
   ],
   "source": [
    "print('This dataset contains 336 rows of data about E coli and their protein sequence. The site column serves as the classes which are cp, im, imS, imL imU, om, omL, and pp')"
   ]
  },
  {
   "cell_type": "code",
   "execution_count": 71,
   "id": "ef4498fc",
   "metadata": {},
   "outputs": [
    {
     "name": "stdout",
     "output_type": "stream",
     "text": [
      "SITE\n",
      "cp     143\n",
      "im      77\n",
      "pp      52\n",
      "imU     35\n",
      "om      20\n",
      "omL      5\n",
      "imL      2\n",
      "imS      2\n",
      "dtype: int64\n"
     ]
    }
   ],
   "source": [
    "print(df.value_counts('SITE'))\n",
    "classes_to_keep = ['cp', 'im', 'pp', 'imU', 'om']\n",
    "filter_df = df.loc[df.SITE.isin(classes_to_keep)]"
   ]
  },
  {
   "cell_type": "code",
   "execution_count": 72,
   "id": "9f52b6c6",
   "metadata": {},
   "outputs": [
    {
     "data": {
      "text/html": [
       "<div>\n",
       "<style scoped>\n",
       "    .dataframe tbody tr th:only-of-type {\n",
       "        vertical-align: middle;\n",
       "    }\n",
       "\n",
       "    .dataframe tbody tr th {\n",
       "        vertical-align: top;\n",
       "    }\n",
       "\n",
       "    .dataframe thead th {\n",
       "        text-align: right;\n",
       "    }\n",
       "</style>\n",
       "<table border=\"1\" class=\"dataframe\">\n",
       "  <thead>\n",
       "    <tr style=\"text-align: right;\">\n",
       "      <th></th>\n",
       "      <th>SEQUENCE_NAME</th>\n",
       "      <th>MCG</th>\n",
       "      <th>GVH</th>\n",
       "      <th>LIP</th>\n",
       "      <th>CHG</th>\n",
       "      <th>AAC</th>\n",
       "      <th>ALM1</th>\n",
       "      <th>ALM2</th>\n",
       "      <th>SITE</th>\n",
       "    </tr>\n",
       "  </thead>\n",
       "  <tbody>\n",
       "    <tr>\n",
       "      <th>0</th>\n",
       "      <td>AAT_ECOLI</td>\n",
       "      <td>0.49</td>\n",
       "      <td>0.29</td>\n",
       "      <td>0.48</td>\n",
       "      <td>0.5</td>\n",
       "      <td>0.56</td>\n",
       "      <td>0.24</td>\n",
       "      <td>0.35</td>\n",
       "      <td>cp</td>\n",
       "    </tr>\n",
       "    <tr>\n",
       "      <th>1</th>\n",
       "      <td>ACEA_ECOLI</td>\n",
       "      <td>0.07</td>\n",
       "      <td>0.40</td>\n",
       "      <td>0.48</td>\n",
       "      <td>0.5</td>\n",
       "      <td>0.54</td>\n",
       "      <td>0.35</td>\n",
       "      <td>0.44</td>\n",
       "      <td>cp</td>\n",
       "    </tr>\n",
       "    <tr>\n",
       "      <th>2</th>\n",
       "      <td>ACEK_ECOLI</td>\n",
       "      <td>0.56</td>\n",
       "      <td>0.40</td>\n",
       "      <td>0.48</td>\n",
       "      <td>0.5</td>\n",
       "      <td>0.49</td>\n",
       "      <td>0.37</td>\n",
       "      <td>0.46</td>\n",
       "      <td>cp</td>\n",
       "    </tr>\n",
       "    <tr>\n",
       "      <th>3</th>\n",
       "      <td>ACKA_ECOLI</td>\n",
       "      <td>0.59</td>\n",
       "      <td>0.49</td>\n",
       "      <td>0.48</td>\n",
       "      <td>0.5</td>\n",
       "      <td>0.52</td>\n",
       "      <td>0.45</td>\n",
       "      <td>0.36</td>\n",
       "      <td>cp</td>\n",
       "    </tr>\n",
       "    <tr>\n",
       "      <th>4</th>\n",
       "      <td>ADI_ECOLI</td>\n",
       "      <td>0.23</td>\n",
       "      <td>0.32</td>\n",
       "      <td>0.48</td>\n",
       "      <td>0.5</td>\n",
       "      <td>0.55</td>\n",
       "      <td>0.25</td>\n",
       "      <td>0.35</td>\n",
       "      <td>cp</td>\n",
       "    </tr>\n",
       "  </tbody>\n",
       "</table>\n",
       "</div>"
      ],
      "text/plain": [
       "  SEQUENCE_NAME   MCG   GVH   LIP  CHG   AAC  ALM1  ALM2 SITE\n",
       "0     AAT_ECOLI  0.49  0.29  0.48  0.5  0.56  0.24  0.35   cp\n",
       "1    ACEA_ECOLI  0.07  0.40  0.48  0.5  0.54  0.35  0.44   cp\n",
       "2    ACEK_ECOLI  0.56  0.40  0.48  0.5  0.49  0.37  0.46   cp\n",
       "3    ACKA_ECOLI  0.59  0.49  0.48  0.5  0.52  0.45  0.36   cp\n",
       "4     ADI_ECOLI  0.23  0.32  0.48  0.5  0.55  0.25  0.35   cp"
      ]
     },
     "execution_count": 72,
     "metadata": {},
     "output_type": "execute_result"
    }
   ],
   "source": [
    "filter_df.head()"
   ]
  },
  {
   "cell_type": "code",
   "execution_count": 73,
   "id": "14493b63",
   "metadata": {},
   "outputs": [],
   "source": [
    "from sklearn.preprocessing import LabelEncoder\n",
    "X = filter_df.iloc[:, 1:8].values\n",
    "y = filter_df.iloc[:, 8].values\n",
    "y = LabelEncoder().fit_transform(y)"
   ]
  },
  {
   "cell_type": "code",
   "execution_count": 74,
   "id": "dcbc1740",
   "metadata": {},
   "outputs": [],
   "source": [
    "from sklearn.neural_network import MLPClassifier\n",
    "mlp = MLPClassifier(hidden_layer_sizes=(100, 50),activation='relu',max_iter=1000)"
   ]
  },
  {
   "cell_type": "code",
   "execution_count": 75,
   "id": "2b3bbcdf",
   "metadata": {},
   "outputs": [
    {
     "name": "stdout",
     "output_type": "stream",
     "text": [
      "[[139   1   0   0   3]\n",
      " [  2  66   8   0   1]\n",
      " [  1  10  24   0   0]\n",
      " [  0   0   0  18   2]\n",
      " [  4   1   0   0  47]]\n",
      "0.8990825688073395\n"
     ]
    }
   ],
   "source": [
    "from sklearn.metrics import confusion_matrix\n",
    "mlp.fit(X, y)\n",
    "y_pred = mlp.predict(X)\n",
    "confusion = confusion_matrix(y, y_pred)\n",
    "print(confusion)\n",
    "accuracy = mlp.score(X, y)\n",
    "print(accuracy)"
   ]
  },
  {
   "cell_type": "code",
   "execution_count": 76,
   "id": "bfbff8cc",
   "metadata": {},
   "outputs": [
    {
     "name": "stdout",
     "output_type": "stream",
     "text": [
      "[[139   1   0   0   3]\n",
      " [  2  66   8   0   1]\n",
      " [  0  11  23   0   1]\n",
      " [  0   0   0  18   2]\n",
      " [  4   1   0   0  47]]\n",
      "0.8960244648318043\n"
     ]
    }
   ],
   "source": [
    "hidden_layer_sizes = [(50, 25), (100, 50, 25), (100, 100), (150, 100, 50)]\n",
    "activations = ['logistic', 'relu', 'tanh']\n",
    "max_iters = [500, 1000, 1500]\n",
    "\n",
    "best_accuracy = 0\n",
    "best_params = {}\n",
    "\n",
    "for layer_sizes in hidden_layer_sizes:\n",
    "    for activation in activations:\n",
    "        for max_iter in max_iters:\n",
    "            mlp = MLPClassifier(hidden_layer_sizes=layer_sizes, activation=activation, max_iter=max_iter)\n",
    "\n",
    "            mlp.fit(X_train, y_train)\n",
    "\n",
    "            accuracy = mlp.score(X_test, y_test)\n",
    "\n",
    "            if accuracy > best_accuracy:\n",
    "                best_accuracy = accuracy\n",
    "                best_params = {'hidden_layer_sizes': layer_sizes, 'activation': activation,'max_iter': max_iter}\n",
    "                \n",
    "final_model = MLPClassifier(hidden_layer_sizes=best_params['hidden_layer_sizes'], activation=best_params['activation'], max_iter=best_params['max_iter'])\n",
    "\n",
    "final_model.fit(X, y)\n",
    "\n",
    "y_pred = final_model.predict(X)\n",
    "confusion = confusion_matrix(y, y_pred)\n",
    "final_accuracy = final_model.score(X, y)\n",
    "\n",
    "print(confusion)\n",
    "print(final_accuracy)"
   ]
  },
  {
   "cell_type": "code",
   "execution_count": 99,
   "id": "f73d2e7e",
   "metadata": {},
   "outputs": [
    {
     "data": {
      "image/png": "[encoded data removed]",
      "text/plain": [
       "<Figure size 1000x600 with 1 Axes>"
      ]
     },
     "metadata": {},
     "output_type": "display_data"
    }
   ],
   "source": [
    "import matplotlib.pyplot as plt\n",
    "import numpy as np\n",
    "from sklearn.neighbors import KNeighborsClassifier\n",
    "from sklearn.metrics import accuracy_score\n",
    "\n",
    "accuracies = []\n",
    "k_values = list(range(1, 20))\n",
    "for k in k_values:\n",
    "    knn = KNeighborsClassifier(n_neighbors=k)\n",
    "    knn.fit(X, y)\n",
    "    y_pred = knn.predict(X)\n",
    "    accuracy = accuracy_score(y, y_pred)\n",
    "    accuracies.append(accuracy)\n",
    "\n",
    "plt.figure(figsize=(10, 6))\n",
    "plt.plot(k_values, accuracies)\n",
    "plt.title(\"Accuracy vs. Number of Neighbors (k)\")\n",
    "plt.xlabel(\"Number of Neighbors (k)\")\n",
    "plt.ylabel(\"Accuracy\")\n",
    "plt.grid(True)\n",
    "plt.show()"
   ]
  },
  {
   "cell_type": "code",
   "execution_count": 91,
   "id": "ac29114e",
   "metadata": {},
   "outputs": [
    {
     "name": "stdout",
     "output_type": "stream",
     "text": [
      "Confusion Matrix:\n",
      "[[141   0   0   0   2]\n",
      " [  2  66   8   0   1]\n",
      " [  1   6  28   0   0]\n",
      " [  0   0   0  18   2]\n",
      " [  3   1   0   0  48]]\n",
      "0.9204892966360856\n"
     ]
    }
   ],
   "source": [
    "from sklearn.neighbors import KNeighborsClassifier\n",
    "knn = KNeighborsClassifier(n_neighbors=7)\n",
    "knn.fit(X, y)\n",
    "y_pred = knn.predict(X)\n",
    "confusion = confusion_matrix(y, y_pred)\n",
    "print(\"Confusion Matrix:\")\n",
    "print(confusion)\n",
    "accuracy = knn.score(X, y)\n",
    "print(accuracy)"
   ]
  },
  {
   "cell_type": "code",
   "execution_count": 93,
   "id": "b996884d",
   "metadata": {},
   "outputs": [
    {
     "name": "stdout",
     "output_type": "stream",
     "text": [
      "Excluding 1 as k it appears that 7 is the best value for k which leads to an accuracy of 0.92\n"
     ]
    }
   ],
   "source": [
    "print('Excluding 1 as k it appears that 7 is the best value for k which leads to an accuracy of 0.92')"
   ]
  },
  {
   "cell_type": "code",
   "execution_count": 98,
   "id": "5e4e8335",
   "metadata": {},
   "outputs": [
    {
     "name": "stdout",
     "output_type": "stream",
     "text": [
      "[[141   1   0   0   1]\n",
      " [  2  69   6   0   0]\n",
      " [  0   7  28   0   0]\n",
      " [  0   0   0  18   2]\n",
      " [  4   0   0   0  48]]\n",
      "0.9296636085626911\n"
     ]
    }
   ],
   "source": [
    "from sklearn.metrics import confusion_matrix\n",
    "from sklearn.neural_network import MLPClassifier\n",
    "mlp = MLPClassifier(hidden_layer_sizes=(1000, 500, 1000),activation='relu',max_iter=2000)\n",
    "mlp.fit(X, y)\n",
    "y_pred = mlp.predict(X)\n",
    "confusion = confusion_matrix(y, y_pred)\n",
    "print(confusion)\n",
    "accuracy = mlp.score(X, y)\n",
    "print(accuracy)"
   ]
  }
 ],
 "metadata": {
  "kernelspec": {
   "display_name": "Python 3 (ipykernel)",
   "language": "python",
   "name": "python3"
  },
  "language_info": {
   "codemirror_mode": {
    "name": "ipython",
    "version": 3
   },
   "file_extension": ".py",
   "mimetype": "text/x-python",
   "name": "python",
   "nbconvert_exporter": "python",
   "pygments_lexer": "ipython3",
   "version": "3.11.4"
  }
 },
 "nbformat": 4,
 "nbformat_minor": 5
}
